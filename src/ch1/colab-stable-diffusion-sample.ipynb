{
  "nbformat": 4,
  "nbformat_minor": 0,
  "metadata": {
    "colab": {
      "provenance": []
    },
    "kernelspec": {
      "name": "python3",
      "display_name": "Python 3"
    },
    "language_info": {
      "name": "python"
    },
    "accelerator": "GPU",
    "gpuClass": "standard"
  },
  "cells": [
    {
      "cell_type": "code",
      "source": [
        "# 必要なパッケージのインストール\n",
        "! pip install diffusers==0.16 \\\n",
        "        transformers==4.28 \\\n",
        "        scipy==1.10.1 \\\n",
        "        ftfy==6.1.1"
      ],
      "metadata": {
        "id": "u90CRtarIET7"
      },
      "execution_count": null,
      "outputs": []
    },
    {
      "cell_type": "code",
      "source": [
        "from diffusers import StableDiffusionPipeline\n",
        "# 利用するモデルを指定\n",
        "model = \"CompVis/stable-diffusion-v1-4\"\n",
        "# パイプラインの生成\n",
        "pipe = StableDiffusionPipeline.from_pretrained(model).to(\"cuda\")"
      ],
      "metadata": {
        "id": "sLxi43dBIHWr"
      },
      "execution_count": null,
      "outputs": []
    },
    {
      "cell_type": "code",
      "source": [
        "from torch import autocast\n",
        "# プロンプトの指定\n",
        "prompt = 'A cat is drinking coffee on the beach. Hokusai ink painting'\n",
        "# text-to-imageを実行\n",
        "with autocast(\"cuda\"):\n",
        "  images = pipe(prompt, guidance_scale=7.5).images\n",
        "  images[0].save('image.png')\n"
      ],
      "metadata": {
        "id": "bzhfvX-xDXoc"
      },
      "execution_count": null,
      "outputs": []
    },
    {
      "cell_type": "code",
      "source": [
        "from torch import autocast\n",
        "# プロンプトの指定\n",
        "prompt = 'A cat is drinking coffee on the beach. Hokusai ink painting'\n",
        "# text-to-imageを実行\n",
        "with autocast(\"cuda\"):\n",
        "  for i in range(10):\n",
        "    images = pipe(prompt, guidance_scale=7.5).images\n",
        "    images[0].save(f'image{i}.png')"
      ],
      "metadata": {
        "id": "D66pBnpPHaDR"
      },
      "execution_count": null,
      "outputs": []
    }
  ]
}